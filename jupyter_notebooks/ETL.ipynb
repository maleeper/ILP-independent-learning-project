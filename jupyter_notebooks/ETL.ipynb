{
  "cells": [
    {
      "cell_type": "markdown",
      "metadata": {
        "id": "0aStgWSO0E0E"
      },
      "source": [
        "# **(ADD THE NOTEBOOK NAME HERE)**"
      ]
    },
    {
      "cell_type": "markdown",
      "metadata": {
        "id": "1eLEkw5O0ECa"
      },
      "source": [
        "## Objectives\n",
        "\n",
        "* Fetch data from Kaggle at : https://www.kaggle.com/datasets/abhishekrp1517/online-retail-transactions-dataset\n",
        "* Save as raw data\", or \"engineer features for modelling\"\n",
        "\n",
        "## Inputs\n",
        "\n",
        "* Write down which data or information you need to run the notebook \n",
        "\n",
        "## Outputs\n",
        "\n",
        "* Write here which files, code or artefacts you generate by the end of the notebook \n",
        "\n",
        "## Additional Comments\n",
        "\n",
        "* If you have any additional comments that don't fit in the previous bullets, please state them here. \n",
        "\n"
      ]
    },
    {
      "cell_type": "markdown",
      "metadata": {
        "id": "9uWZXH9LwoQg"
      },
      "source": [
        "---"
      ]
    },
    {
      "cell_type": "markdown",
      "metadata": {
        "id": "cqP-UeN-z3i2"
      },
      "source": [
        "# Change working directory"
      ]
    },
    {
      "cell_type": "markdown",
      "metadata": {},
      "source": [
        "* We are assuming you will store the notebooks in a subfolder, therefore when running the notebook in the editor, you will need to change the working directory"
      ]
    },
    {
      "cell_type": "markdown",
      "metadata": {
        "id": "aOGIGS-uz3i2"
      },
      "source": [
        "We need to change the working directory from its current folder to its parent folder\n",
        "* We access the current directory with os.getcwd()"
      ]
    },
    {
      "cell_type": "code",
      "execution_count": 1,
      "metadata": {
        "id": "wZfF_j-Bz3i4",
        "outputId": "66943449-1436-4c3d-85c7-b85f9f78349b"
      },
      "outputs": [
        {
          "data": {
            "text/plain": [
              "'c:\\\\Users\\\\marka\\\\ILP\\\\ILP-independent-learning-project\\\\jupyter_notebooks'"
            ]
          },
          "execution_count": 1,
          "metadata": {},
          "output_type": "execute_result"
        }
      ],
      "source": [
        "import os\n",
        "current_dir = os.getcwd()\n",
        "current_dir"
      ]
    },
    {
      "cell_type": "markdown",
      "metadata": {
        "id": "9MWW8E7lz3i7"
      },
      "source": [
        "We want to make the parent of the current directory the new current directory\n",
        "* os.path.dirname() gets the parent directory\n",
        "* os.chir() defines the new current directory"
      ]
    },
    {
      "cell_type": "code",
      "execution_count": 2,
      "metadata": {
        "id": "TwHsQRWjz3i9",
        "outputId": "86849db3-cd2f-4cc5-ebb8-2d0caafa1a2c"
      },
      "outputs": [
        {
          "name": "stdout",
          "output_type": "stream",
          "text": [
            "You set a new current directory\n"
          ]
        }
      ],
      "source": [
        "os.chdir(os.path.dirname(current_dir))\n",
        "print(\"You set a new current directory\")"
      ]
    },
    {
      "cell_type": "markdown",
      "metadata": {
        "id": "M_xPk_Ijz3i-"
      },
      "source": [
        "Confirm the new current directory"
      ]
    },
    {
      "cell_type": "code",
      "execution_count": 3,
      "metadata": {
        "id": "vz3S-_kjz3jA",
        "outputId": "00b79ae4-75d0-4a96-d193-ac9ef9847ea2"
      },
      "outputs": [
        {
          "data": {
            "text/plain": [
              "'c:\\\\Users\\\\marka\\\\ILP\\\\ILP-independent-learning-project'"
            ]
          },
          "execution_count": 3,
          "metadata": {},
          "output_type": "execute_result"
        }
      ],
      "source": [
        "current_dir = os.getcwd()\n",
        "current_dir"
      ]
    },
    {
      "cell_type": "markdown",
      "metadata": {
        "id": "-mavJ8DibrcQ"
      },
      "source": [
        "# Section 1"
      ]
    },
    {
      "cell_type": "markdown",
      "metadata": {},
      "source": [
        "Read the raw data"
      ]
    },
    {
      "cell_type": "code",
      "execution_count": null,
      "metadata": {},
      "outputs": [],
      "source": [
        "# read the raw data\n",
        "import pandas as pd\n",
        "\n",
        "df = pd.read_csv('dataset/raw/Online Retail.csv')"
      ]
    },
    {
      "cell_type": "code",
      "execution_count": 8,
      "metadata": {},
      "outputs": [
        {
          "name": "stdout",
          "output_type": "stream",
          "text": [
            "<class 'pandas.core.frame.DataFrame'>\n",
            "RangeIndex: 541909 entries, 0 to 541908\n",
            "Data columns (total 8 columns):\n",
            " #   Column       Non-Null Count   Dtype  \n",
            "---  ------       --------------   -----  \n",
            " 0   InvoiceNo    541909 non-null  object \n",
            " 1   StockCode    541909 non-null  object \n",
            " 2   Description  540455 non-null  object \n",
            " 3   Quantity     541909 non-null  int64  \n",
            " 4   InvoiceDate  541909 non-null  object \n",
            " 5   UnitPrice    541909 non-null  float64\n",
            " 6   CustomerID   541909 non-null  int64  \n",
            " 7   Country      541909 non-null  object \n",
            "dtypes: float64(1), int64(2), object(5)\n",
            "memory usage: 175.2 MB\n"
          ]
        },
        {
          "data": {
            "application/vnd.microsoft.datawrangler.viewer.v0+json": {
              "columns": [
                {
                  "name": "index",
                  "rawType": "object",
                  "type": "string"
                },
                {
                  "name": "0",
                  "rawType": "int64",
                  "type": "integer"
                }
              ],
              "ref": "917e7f32-cab1-4d8e-ac1f-7a4dec91e658",
              "rows": [
                [
                  "InvoiceNo",
                  "0"
                ],
                [
                  "StockCode",
                  "0"
                ],
                [
                  "Description",
                  "1454"
                ],
                [
                  "Quantity",
                  "0"
                ],
                [
                  "InvoiceDate",
                  "0"
                ],
                [
                  "UnitPrice",
                  "0"
                ],
                [
                  "CustomerID",
                  "0"
                ],
                [
                  "Country",
                  "0"
                ]
              ],
              "shape": {
                "columns": 1,
                "rows": 8
              }
            },
            "text/plain": [
              "InvoiceNo         0\n",
              "StockCode         0\n",
              "Description    1454\n",
              "Quantity          0\n",
              "InvoiceDate       0\n",
              "UnitPrice         0\n",
              "CustomerID        0\n",
              "Country           0\n",
              "dtype: int64"
            ]
          },
          "execution_count": 8,
          "metadata": {},
          "output_type": "execute_result"
        }
      ],
      "source": [
        "# Display the first few rows of the dataframe\n",
        "df.head()\n",
        "# Display the shape of the dataframe\n",
        "df.shape    \n",
        "df.info(verbose=True, memory_usage='deep')\n",
        "#note there are missing Description values\n",
        "#count missing values\n",
        "df.isnull().sum()"
      ]
    },
    {
      "cell_type": "code",
      "execution_count": 9,
      "metadata": {},
      "outputs": [
        {
          "data": {
            "application/vnd.microsoft.datawrangler.viewer.v0+json": {
              "columns": [
                {
                  "name": "index",
                  "rawType": "object",
                  "type": "string"
                },
                {
                  "name": "0",
                  "rawType": "int64",
                  "type": "integer"
                }
              ],
              "ref": "12d8e43c-7ed5-4630-9bb9-2e5f249545dc",
              "rows": [
                [
                  "InvoiceNo",
                  "25900"
                ],
                [
                  "StockCode",
                  "4070"
                ],
                [
                  "Description",
                  "4223"
                ],
                [
                  "Quantity",
                  "722"
                ],
                [
                  "InvoiceDate",
                  "23260"
                ],
                [
                  "UnitPrice",
                  "1630"
                ],
                [
                  "CustomerID",
                  "4372"
                ],
                [
                  "Country",
                  "38"
                ]
              ],
              "shape": {
                "columns": 1,
                "rows": 8
              }
            },
            "text/plain": [
              "InvoiceNo      25900\n",
              "StockCode       4070\n",
              "Description     4223\n",
              "Quantity         722\n",
              "InvoiceDate    23260\n",
              "UnitPrice       1630\n",
              "CustomerID      4372\n",
              "Country           38\n",
              "dtype: int64"
            ]
          },
          "execution_count": 9,
          "metadata": {},
          "output_type": "execute_result"
        }
      ],
      "source": [
        "# get the unique value count\n",
        "df.nunique()"
      ]
    },
    {
      "cell_type": "markdown",
      "metadata": {
        "id": "ZY3l0-AxO93d"
      },
      "source": [
        "---"
      ]
    },
    {
      "cell_type": "markdown",
      "metadata": {
        "id": "uFQo3ycuO-v6"
      },
      "source": [
        "# Section 2"
      ]
    },
    {
      "cell_type": "markdown",
      "metadata": {},
      "source": [
        "Section 2 content\n",
        "Do we have any duplicates?"
      ]
    },
    {
      "cell_type": "code",
      "execution_count": 10,
      "metadata": {},
      "outputs": [
        {
          "data": {
            "text/plain": [
              "5268"
            ]
          },
          "execution_count": 10,
          "metadata": {},
          "output_type": "execute_result"
        }
      ],
      "source": [
        "#Do we have any duplicates?\n",
        "df.duplicated().sum()"
      ]
    },
    {
      "cell_type": "code",
      "execution_count": 13,
      "metadata": {},
      "outputs": [
        {
          "data": {
            "text/plain": [
              "(536641, 8)"
            ]
          },
          "execution_count": 13,
          "metadata": {},
          "output_type": "execute_result"
        }
      ],
      "source": [
        "# de-duplicate the dataframe\n",
        "df = df.drop_duplicates()\n",
        "# check the shape after de-duplication\n",
        "df.shape"
      ]
    },
    {
      "cell_type": "markdown",
      "metadata": {},
      "source": [
        "---"
      ]
    },
    {
      "cell_type": "code",
      "execution_count": 14,
      "metadata": {},
      "outputs": [
        {
          "data": {
            "application/vnd.microsoft.datawrangler.viewer.v0+json": {
              "columns": [
                {
                  "name": "index",
                  "rawType": "object",
                  "type": "string"
                },
                {
                  "name": "0",
                  "rawType": "int64",
                  "type": "integer"
                }
              ],
              "ref": "eb158c48-927d-476f-a480-b3e1a069a7c2",
              "rows": [
                [
                  "InvoiceNo",
                  "0"
                ],
                [
                  "StockCode",
                  "0"
                ],
                [
                  "Description",
                  "1454"
                ],
                [
                  "Quantity",
                  "0"
                ],
                [
                  "InvoiceDate",
                  "0"
                ],
                [
                  "UnitPrice",
                  "0"
                ],
                [
                  "CustomerID",
                  "0"
                ],
                [
                  "Country",
                  "0"
                ]
              ],
              "shape": {
                "columns": 1,
                "rows": 8
              }
            },
            "text/plain": [
              "InvoiceNo         0\n",
              "StockCode         0\n",
              "Description    1454\n",
              "Quantity          0\n",
              "InvoiceDate       0\n",
              "UnitPrice         0\n",
              "CustomerID        0\n",
              "Country           0\n",
              "dtype: int64"
            ]
          },
          "execution_count": 14,
          "metadata": {},
          "output_type": "execute_result"
        }
      ],
      "source": [
        "# Transform: Clean the data, handle missing values, encode categorical variables, and create new features such as total transaction value.\n",
        "# Get to know the shape of the data\n",
        "\n",
        "# find missing values\n",
        "df.isnull().sum()"
      ]
    },
    {
      "cell_type": "markdown",
      "metadata": {},
      "source": [
        "# Description has some missing values so we will use the StockCode for the product reference\n",
        "# set Description to 'No Description' is missing"
      ]
    },
    {
      "cell_type": "code",
      "execution_count": 15,
      "metadata": {},
      "outputs": [],
      "source": [
        "# set Description to 'No Description' is missing\n",
        "df['Description'] = df['Description'].fillna('No Description')"
      ]
    },
    {
      "cell_type": "code",
      "execution_count": 16,
      "metadata": {},
      "outputs": [
        {
          "data": {
            "application/vnd.microsoft.datawrangler.viewer.v0+json": {
              "columns": [
                {
                  "name": "index",
                  "rawType": "object",
                  "type": "string"
                },
                {
                  "name": "0",
                  "rawType": "int64",
                  "type": "integer"
                }
              ],
              "ref": "cd230b8a-0067-4fae-bbd7-3fd336d3a78b",
              "rows": [
                [
                  "InvoiceNo",
                  "0"
                ],
                [
                  "StockCode",
                  "0"
                ],
                [
                  "Description",
                  "0"
                ],
                [
                  "Quantity",
                  "0"
                ],
                [
                  "InvoiceDate",
                  "0"
                ],
                [
                  "UnitPrice",
                  "0"
                ],
                [
                  "CustomerID",
                  "0"
                ],
                [
                  "Country",
                  "0"
                ]
              ],
              "shape": {
                "columns": 1,
                "rows": 8
              }
            },
            "text/plain": [
              "InvoiceNo      0\n",
              "StockCode      0\n",
              "Description    0\n",
              "Quantity       0\n",
              "InvoiceDate    0\n",
              "UnitPrice      0\n",
              "CustomerID     0\n",
              "Country        0\n",
              "dtype: int64"
            ]
          },
          "execution_count": 16,
          "metadata": {},
          "output_type": "execute_result"
        }
      ],
      "source": [
        "df.isnull().sum()"
      ]
    },
    {
      "cell_type": "code",
      "execution_count": 19,
      "metadata": {},
      "outputs": [
        {
          "data": {
            "text/plain": [
              "9726006.953999998"
            ]
          },
          "execution_count": 19,
          "metadata": {},
          "output_type": "execute_result"
        }
      ],
      "source": [
        "df['Sales'] = df['Quantity'] * df['UnitPrice']\n",
        "df['Sales'].sum()"
      ]
    },
    {
      "cell_type": "code",
      "execution_count": null,
      "metadata": {},
      "outputs": [
        {
          "name": "stdout",
          "output_type": "stream",
          "text": [
            "total sales is 10642110.804000001\n",
            "total returns is 916103.8500000003\n",
            "total profit is 9726006.954000002\n"
          ]
        }
      ],
      "source": [
        "# we need to create 'Sales' = Quantity * UnitPrice and add this to the dataset\n",
        "import numpy as np\n",
        "df.loc[df['Sales'] < 0, 'Returns'] = np.abs(df['Sales'])\n",
        "df.loc[df['Sales'] < 0, 'Sales']  = 0\n",
        "\n",
        "print(f\"total sales is {df['Sales'].sum()}\")\n",
        "print(f\"total returns is {df['Returns'].sum()}\")\n",
        "# total profit is\n",
        "print(f\"total profit is {df['Sales'].sum() - df['Returns'].sum()}\")\n",
        "\n"
      ]
    },
    {
      "cell_type": "markdown",
      "metadata": {},
      "source": [
        "NOTE"
      ]
    },
    {
      "cell_type": "code",
      "execution_count": 23,
      "metadata": {},
      "outputs": [
        {
          "data": {
            "application/vnd.microsoft.datawrangler.viewer.v0+json": {
              "columns": [
                {
                  "name": "Country",
                  "rawType": "object",
                  "type": "string"
                },
                {
                  "name": "count",
                  "rawType": "int64",
                  "type": "integer"
                }
              ],
              "ref": "d00d6198-8d7b-474f-bb96-2e351a87b1c3",
              "rows": [
                [
                  "United Kingdom",
                  "490300"
                ],
                [
                  "Germany",
                  "9480"
                ],
                [
                  "France",
                  "8541"
                ],
                [
                  "EIRE",
                  "8184"
                ],
                [
                  "Spain",
                  "2528"
                ],
                [
                  "Netherlands",
                  "2371"
                ],
                [
                  "Belgium",
                  "2069"
                ],
                [
                  "Switzerland",
                  "1994"
                ],
                [
                  "Portugal",
                  "1510"
                ],
                [
                  "Australia",
                  "1258"
                ],
                [
                  "Norway",
                  "1086"
                ],
                [
                  "Italy",
                  "803"
                ],
                [
                  "Channel Islands",
                  "757"
                ],
                [
                  "Finland",
                  "695"
                ],
                [
                  "Cyprus",
                  "611"
                ],
                [
                  "Sweden",
                  "461"
                ],
                [
                  "Unspecified",
                  "442"
                ],
                [
                  "Austria",
                  "401"
                ],
                [
                  "Denmark",
                  "389"
                ],
                [
                  "Japan",
                  "358"
                ],
                [
                  "Poland",
                  "341"
                ],
                [
                  "Israel",
                  "294"
                ],
                [
                  "USA",
                  "291"
                ],
                [
                  "Hong Kong",
                  "284"
                ],
                [
                  "Singapore",
                  "229"
                ],
                [
                  "Iceland",
                  "182"
                ],
                [
                  "Canada",
                  "151"
                ],
                [
                  "Greece",
                  "146"
                ],
                [
                  "Malta",
                  "127"
                ],
                [
                  "United Arab Emirates",
                  "68"
                ],
                [
                  "European Community",
                  "61"
                ],
                [
                  "RSA",
                  "58"
                ],
                [
                  "Lebanon",
                  "45"
                ],
                [
                  "Lithuania",
                  "35"
                ],
                [
                  "Brazil",
                  "32"
                ],
                [
                  "Czech Republic",
                  "30"
                ],
                [
                  "Bahrain",
                  "19"
                ],
                [
                  "Saudi Arabia",
                  "10"
                ]
              ],
              "shape": {
                "columns": 1,
                "rows": 38
              }
            },
            "text/plain": [
              "Country\n",
              "United Kingdom          490300\n",
              "Germany                   9480\n",
              "France                    8541\n",
              "EIRE                      8184\n",
              "Spain                     2528\n",
              "Netherlands               2371\n",
              "Belgium                   2069\n",
              "Switzerland               1994\n",
              "Portugal                  1510\n",
              "Australia                 1258\n",
              "Norway                    1086\n",
              "Italy                      803\n",
              "Channel Islands            757\n",
              "Finland                    695\n",
              "Cyprus                     611\n",
              "Sweden                     461\n",
              "Unspecified                442\n",
              "Austria                    401\n",
              "Denmark                    389\n",
              "Japan                      358\n",
              "Poland                     341\n",
              "Israel                     294\n",
              "USA                        291\n",
              "Hong Kong                  284\n",
              "Singapore                  229\n",
              "Iceland                    182\n",
              "Canada                     151\n",
              "Greece                     146\n",
              "Malta                      127\n",
              "United Arab Emirates        68\n",
              "European Community          61\n",
              "RSA                         58\n",
              "Lebanon                     45\n",
              "Lithuania                   35\n",
              "Brazil                      32\n",
              "Czech Republic              30\n",
              "Bahrain                     19\n",
              "Saudi Arabia                10\n",
              "Name: count, dtype: int64"
            ]
          },
          "execution_count": 23,
          "metadata": {},
          "output_type": "execute_result"
        }
      ],
      "source": [
        "# encode categorical variables\n",
        "df['Country'].value_counts()\n"
      ]
    },
    {
      "cell_type": "code",
      "execution_count": 25,
      "metadata": {},
      "outputs": [],
      "source": [
        "import numpy as np \n",
        "# Over 90% of the sales are from the United Kingdom\n",
        "# create 2 columns 'Is_UK' and 'Is_Not_UK'\n",
        "df['Is_UK'] = np.where(df['Country'] == 'United Kingdom', 1, 0)\n",
        "df['Is_Not_UK'] = np.where(df['Country'] != 'United Kingdom', 1, 0)\n",
        "\n"
      ]
    },
    {
      "cell_type": "code",
      "execution_count": 26,
      "metadata": {},
      "outputs": [
        {
          "name": "stdout",
          "output_type": "stream",
          "text": [
            "<class 'pandas.core.frame.DataFrame'>\n",
            "Index: 536641 entries, 0 to 541908\n",
            "Data columns (total 12 columns):\n",
            " #   Column       Non-Null Count   Dtype  \n",
            "---  ------       --------------   -----  \n",
            " 0   InvoiceNo    536641 non-null  object \n",
            " 1   StockCode    536641 non-null  object \n",
            " 2   Description  536641 non-null  object \n",
            " 3   Quantity     536641 non-null  int64  \n",
            " 4   InvoiceDate  536641 non-null  object \n",
            " 5   UnitPrice    536641 non-null  float64\n",
            " 6   CustomerID   536641 non-null  int64  \n",
            " 7   Country      536641 non-null  object \n",
            " 8   Sales        536641 non-null  float64\n",
            " 9   Returns      9253 non-null    float64\n",
            " 10  Is_UK        536641 non-null  int32  \n",
            " 11  Is_Not_UK    536641 non-null  int32  \n",
            "dtypes: float64(3), int32(2), int64(2), object(5)\n",
            "memory usage: 206.0 MB\n"
          ]
        }
      ],
      "source": [
        "df.info(verbose=True, memory_usage='deep')\n"
      ]
    },
    {
      "cell_type": "code",
      "execution_count": 27,
      "metadata": {},
      "outputs": [
        {
          "data": {
            "image/png": "[encoded data removed]",
            "text/plain": [
              "<Figure size 640x480 with 1 Axes>"
            ]
          },
          "metadata": {},
          "output_type": "display_data"
        }
      ],
      "source": [
        "import matplotlib.pyplot as plt\n",
        "\n",
        "# histogram of sales\n",
        "plt.hist(df['Sales'], bins=50)\n",
        "plt.title('Histogram of Sales')\n",
        "plt.xlabel('Sales')\n",
        "plt.ylabel('Frequency')\n",
        "plt.show()"
      ]
    },
    {
      "cell_type": "code",
      "execution_count": 35,
      "metadata": {},
      "outputs": [
        {
          "name": "stdout",
          "output_type": "stream",
          "text": [
            "Number of outliers in Sales: 27505\n"
          ]
        },
        {
          "data": {
            "image/png": "[encoded data removed]",
            "text/plain": [
              "<Figure size 640x480 with 1 Axes>"
            ]
          },
          "metadata": {},
          "output_type": "display_data"
        },
        {
          "name": "stdout",
          "output_type": "stream",
          "text": [
            "       InvoiceNo StockCode                     Description  Quantity  \\\n",
            "61619     541431     23166  MEDIUM CERAMIC TOP STORAGE JAR     74215   \n",
            "222680    556444     22502  PICNIC BASKET WICKER 60 PIECES        60   \n",
            "540421    581483     23843     PAPER CRAFT , LITTLE BIRDIE     80995   \n",
            "\n",
            "                InvoiceDate  UnitPrice  CustomerID         Country     Sales  \\\n",
            "61619   2011-01-18 10:01:00       1.04       12346  United Kingdom   77183.6   \n",
            "222680  2011-06-10 15:28:00     649.50       15098  United Kingdom   38970.0   \n",
            "540421  2011-12-09 09:15:00       2.08       16446  United Kingdom  168469.6   \n",
            "\n",
            "        Returns  Is_UK  Is_Not_UK  \n",
            "61619       NaN      1          0  \n",
            "222680      NaN      1          0  \n",
            "540421      NaN      1          0  \n"
          ]
        },
        {
          "data": {
            "application/vnd.microsoft.datawrangler.viewer.v0+json": {
              "columns": [
                {
                  "name": "index",
                  "rawType": "int64",
                  "type": "integer"
                },
                {
                  "name": "InvoiceNo",
                  "rawType": "object",
                  "type": "string"
                },
                {
                  "name": "StockCode",
                  "rawType": "object",
                  "type": "string"
                },
                {
                  "name": "Description",
                  "rawType": "object",
                  "type": "string"
                },
                {
                  "name": "Quantity",
                  "rawType": "int64",
                  "type": "integer"
                },
                {
                  "name": "InvoiceDate",
                  "rawType": "object",
                  "type": "string"
                },
                {
                  "name": "UnitPrice",
                  "rawType": "float64",
                  "type": "float"
                },
                {
                  "name": "CustomerID",
                  "rawType": "int64",
                  "type": "integer"
                },
                {
                  "name": "Country",
                  "rawType": "object",
                  "type": "string"
                },
                {
                  "name": "Sales",
                  "rawType": "float64",
                  "type": "float"
                },
                {
                  "name": "Returns",
                  "rawType": "float64",
                  "type": "float"
                },
                {
                  "name": "Is_UK",
                  "rawType": "int32",
                  "type": "integer"
                },
                {
                  "name": "Is_Not_UK",
                  "rawType": "int32",
                  "type": "integer"
                }
              ],
              "ref": "398d5fbc-7630-49b1-90d7-2ea2c7e8d290",
              "rows": [
                [
                  "61619",
                  "541431",
                  "23166",
                  "MEDIUM CERAMIC TOP STORAGE JAR",
                  "74215",
                  "2011-01-18 10:01:00",
                  "1.04",
                  "12346",
                  "United Kingdom",
                  "77183.6",
                  null,
                  "1",
                  "0"
                ],
                [
                  "222680",
                  "556444",
                  "22502",
                  "PICNIC BASKET WICKER 60 PIECES",
                  "60",
                  "2011-06-10 15:28:00",
                  "649.5",
                  "15098",
                  "United Kingdom",
                  "38970.0",
                  null,
                  "1",
                  "0"
                ],
                [
                  "540421",
                  "581483",
                  "23843",
                  "PAPER CRAFT , LITTLE BIRDIE",
                  "80995",
                  "2011-12-09 09:15:00",
                  "2.08",
                  "16446",
                  "United Kingdom",
                  "168469.6",
                  null,
                  "1",
                  "0"
                ]
              ],
              "shape": {
                "columns": 12,
                "rows": 3
              }
            },
            "text/html": [
              "<div>\n",
              "<style scoped>\n",
              "    .dataframe tbody tr th:only-of-type {\n",
              "        vertical-align: middle;\n",
              "    }\n",
              "\n",
              "    .dataframe tbody tr th {\n",
              "        vertical-align: top;\n",
              "    }\n",
              "\n",
              "    .dataframe thead th {\n",
              "        text-align: right;\n",
              "    }\n",
              "</style>\n",
              "<table border=\"1\" class=\"dataframe\">\n",
              "  <thead>\n",
              "    <tr style=\"text-align: right;\">\n",
              "      <th></th>\n",
              "      <th>InvoiceNo</th>\n",
              "      <th>StockCode</th>\n",
              "      <th>Description</th>\n",
              "      <th>Quantity</th>\n",
              "      <th>InvoiceDate</th>\n",
              "      <th>UnitPrice</th>\n",
              "      <th>CustomerID</th>\n",
              "      <th>Country</th>\n",
              "      <th>Sales</th>\n",
              "      <th>Returns</th>\n",
              "      <th>Is_UK</th>\n",
              "      <th>Is_Not_UK</th>\n",
              "    </tr>\n",
              "  </thead>\n",
              "  <tbody>\n",
              "    <tr>\n",
              "      <th>61619</th>\n",
              "      <td>541431</td>\n",
              "      <td>23166</td>\n",
              "      <td>MEDIUM CERAMIC TOP STORAGE JAR</td>\n",
              "      <td>74215</td>\n",
              "      <td>2011-01-18 10:01:00</td>\n",
              "      <td>1.04</td>\n",
              "      <td>12346</td>\n",
              "      <td>United Kingdom</td>\n",
              "      <td>77183.6</td>\n",
              "      <td>NaN</td>\n",
              "      <td>1</td>\n",
              "      <td>0</td>\n",
              "    </tr>\n",
              "    <tr>\n",
              "      <th>222680</th>\n",
              "      <td>556444</td>\n",
              "      <td>22502</td>\n",
              "      <td>PICNIC BASKET WICKER 60 PIECES</td>\n",
              "      <td>60</td>\n",
              "      <td>2011-06-10 15:28:00</td>\n",
              "      <td>649.50</td>\n",
              "      <td>15098</td>\n",
              "      <td>United Kingdom</td>\n",
              "      <td>38970.0</td>\n",
              "      <td>NaN</td>\n",
              "      <td>1</td>\n",
              "      <td>0</td>\n",
              "    </tr>\n",
              "    <tr>\n",
              "      <th>540421</th>\n",
              "      <td>581483</td>\n",
              "      <td>23843</td>\n",
              "      <td>PAPER CRAFT , LITTLE BIRDIE</td>\n",
              "      <td>80995</td>\n",
              "      <td>2011-12-09 09:15:00</td>\n",
              "      <td>2.08</td>\n",
              "      <td>16446</td>\n",
              "      <td>United Kingdom</td>\n",
              "      <td>168469.6</td>\n",
              "      <td>NaN</td>\n",
              "      <td>1</td>\n",
              "      <td>0</td>\n",
              "    </tr>\n",
              "  </tbody>\n",
              "</table>\n",
              "</div>"
            ],
            "text/plain": [
              "       InvoiceNo StockCode                     Description  Quantity  \\\n",
              "61619     541431     23166  MEDIUM CERAMIC TOP STORAGE JAR     74215   \n",
              "222680    556444     22502  PICNIC BASKET WICKER 60 PIECES        60   \n",
              "540421    581483     23843     PAPER CRAFT , LITTLE BIRDIE     80995   \n",
              "\n",
              "                InvoiceDate  UnitPrice  CustomerID         Country     Sales  \\\n",
              "61619   2011-01-18 10:01:00       1.04       12346  United Kingdom   77183.6   \n",
              "222680  2011-06-10 15:28:00     649.50       15098  United Kingdom   38970.0   \n",
              "540421  2011-12-09 09:15:00       2.08       16446  United Kingdom  168469.6   \n",
              "\n",
              "        Returns  Is_UK  Is_Not_UK  \n",
              "61619       NaN      1          0  \n",
              "222680      NaN      1          0  \n",
              "540421      NaN      1          0  "
            ]
          },
          "execution_count": 35,
          "metadata": {},
          "output_type": "execute_result"
        }
      ],
      "source": [
        "# find outliers in the sales data\n",
        "Q1 = df['Sales'].quantile(0.25)\n",
        "Q3 = df['Sales'].quantile(0.75)\n",
        "IQR = Q3 - Q1\n",
        "lower_bound = Q1 - 3* IQR\n",
        "upper_bound = Q3 + 3* IQR\n",
        "outliers = df[(df['Sales'] < lower_bound) | (df['Sales'] > upper_bound)]\n",
        "print(f\"Number of outliers in Sales: {len(outliers)}\")\n",
        "# plot a boxplot\n",
        "plt.boxplot(df['Sales'])\n",
        "plt.title('Boxplot of Sales')\n",
        "plt.ylabel('Sales')\n",
        "plt.show()\n",
        "# what are these sales > 25000?\n",
        "high_value_sales = df[df['Sales'] > 25000]\n",
        "print(high_value_sales)\n",
        "high_value_sales.head()"
      ]
    },
    {
      "cell_type": "code",
      "execution_count": 41,
      "metadata": {},
      "outputs": [
        {
          "name": "stdout",
          "output_type": "stream",
          "text": [
            "Unique unit prices of StockCode 22502 (PICNIC BASKET WICKER 60 PIECES): [  5.95   4.95   8.47   0.     8.29  10.79   8.95 649.5    2.  ]\n"
          ]
        }
      ],
      "source": [
        "# suspect high value sales for PICNIC BASKET WICKER 60 PIECES because of the high unit price\n",
        "# what are the unique unit prices of PICNIC BASKET WICKER 60 PIECES?\n",
        "unit_prices = df.loc[df['StockCode'] == '22502', 'UnitPrice'].unique()\n",
        "print(f\"Unique unit prices of StockCode 22502 (PICNIC BASKET WICKER 60 PIECES): {unit_prices}\")\n"
      ]
    },
    {
      "cell_type": "code",
      "execution_count": 56,
      "metadata": {},
      "outputs": [
        {
          "data": {
            "application/vnd.microsoft.datawrangler.viewer.v0+json": {
              "columns": [
                {
                  "name": "index",
                  "rawType": "int64",
                  "type": "integer"
                },
                {
                  "name": "UnitPrice",
                  "rawType": "float64",
                  "type": "float"
                },
                {
                  "name": "Count",
                  "rawType": "int64",
                  "type": "integer"
                }
              ],
              "ref": "ad83c2ce-c638-4875-86cf-365f83142a6a",
              "rows": [
                [
                  "0",
                  "5.95",
                  "216"
                ],
                [
                  "1",
                  "10.79",
                  "98"
                ],
                [
                  "2",
                  "8.29",
                  "96"
                ],
                [
                  "3",
                  "4.95",
                  "32"
                ],
                [
                  "4",
                  "8.47",
                  "29"
                ],
                [
                  "5",
                  "0.0",
                  "6"
                ],
                [
                  "6",
                  "649.5",
                  "2"
                ],
                [
                  "7",
                  "8.95",
                  "1"
                ],
                [
                  "8",
                  "2.0",
                  "1"
                ]
              ],
              "shape": {
                "columns": 2,
                "rows": 9
              }
            },
            "text/html": [
              "<div>\n",
              "<style scoped>\n",
              "    .dataframe tbody tr th:only-of-type {\n",
              "        vertical-align: middle;\n",
              "    }\n",
              "\n",
              "    .dataframe tbody tr th {\n",
              "        vertical-align: top;\n",
              "    }\n",
              "\n",
              "    .dataframe thead th {\n",
              "        text-align: right;\n",
              "    }\n",
              "</style>\n",
              "<table border=\"1\" class=\"dataframe\">\n",
              "  <thead>\n",
              "    <tr style=\"text-align: right;\">\n",
              "      <th></th>\n",
              "      <th>UnitPrice</th>\n",
              "      <th>Count</th>\n",
              "    </tr>\n",
              "  </thead>\n",
              "  <tbody>\n",
              "    <tr>\n",
              "      <th>0</th>\n",
              "      <td>5.95</td>\n",
              "      <td>216</td>\n",
              "    </tr>\n",
              "    <tr>\n",
              "      <th>1</th>\n",
              "      <td>10.79</td>\n",
              "      <td>98</td>\n",
              "    </tr>\n",
              "    <tr>\n",
              "      <th>2</th>\n",
              "      <td>8.29</td>\n",
              "      <td>96</td>\n",
              "    </tr>\n",
              "    <tr>\n",
              "      <th>3</th>\n",
              "      <td>4.95</td>\n",
              "      <td>32</td>\n",
              "    </tr>\n",
              "    <tr>\n",
              "      <th>4</th>\n",
              "      <td>8.47</td>\n",
              "      <td>29</td>\n",
              "    </tr>\n",
              "    <tr>\n",
              "      <th>5</th>\n",
              "      <td>0.00</td>\n",
              "      <td>6</td>\n",
              "    </tr>\n",
              "    <tr>\n",
              "      <th>6</th>\n",
              "      <td>649.50</td>\n",
              "      <td>2</td>\n",
              "    </tr>\n",
              "    <tr>\n",
              "      <th>7</th>\n",
              "      <td>8.95</td>\n",
              "      <td>1</td>\n",
              "    </tr>\n",
              "    <tr>\n",
              "      <th>8</th>\n",
              "      <td>2.00</td>\n",
              "      <td>1</td>\n",
              "    </tr>\n",
              "  </tbody>\n",
              "</table>\n",
              "</div>"
            ],
            "text/plain": [
              "   UnitPrice  Count\n",
              "0       5.95    216\n",
              "1      10.79     98\n",
              "2       8.29     96\n",
              "3       4.95     32\n",
              "4       8.47     29\n",
              "5       0.00      6\n",
              "6     649.50      2\n",
              "7       8.95      1\n",
              "8       2.00      1"
            ]
          },
          "execution_count": 56,
          "metadata": {},
          "output_type": "execute_result"
        },
        {
          "data": {
            "image/png": "[encoded data removed]",
            "text/plain": [
              "<Figure size 640x480 with 1 Axes>"
            ]
          },
          "metadata": {},
          "output_type": "display_data"
        }
      ],
      "source": [
        "# plot a hbar the unique unit prices\n",
        "import seaborn as sns\n",
        "df_copy = df.copy()\n",
        "df_copy = df_copy[df_copy['StockCode'] == '22502']\n",
        "\n",
        "# use a seaborn chart to plot row count of unit price\n",
        "sns.barplot(x=df_copy['UnitPrice'].value_counts().index, y=df_copy['UnitPrice'].value_counts().values, color='skyblue')\n",
        "\n",
        "\n",
        "# show the same data as a table\n",
        "df_copy['UnitPrice'].value_counts().to_frame(name='Count').reset_index()"
      ]
    },
    {
      "cell_type": "code",
      "execution_count": 61,
      "metadata": {},
      "outputs": [
        {
          "data": {
            "application/vnd.microsoft.datawrangler.viewer.v0+json": {
              "columns": [
                {
                  "name": "index",
                  "rawType": "int64",
                  "type": "integer"
                },
                {
                  "name": "InvoiceNo",
                  "rawType": "object",
                  "type": "string"
                },
                {
                  "name": "StockCode",
                  "rawType": "object",
                  "type": "string"
                },
                {
                  "name": "Description",
                  "rawType": "object",
                  "type": "string"
                },
                {
                  "name": "Quantity",
                  "rawType": "int64",
                  "type": "integer"
                },
                {
                  "name": "InvoiceDate",
                  "rawType": "object",
                  "type": "string"
                },
                {
                  "name": "UnitPrice",
                  "rawType": "float64",
                  "type": "float"
                },
                {
                  "name": "CustomerID",
                  "rawType": "int64",
                  "type": "integer"
                },
                {
                  "name": "Country",
                  "rawType": "object",
                  "type": "string"
                },
                {
                  "name": "Sales",
                  "rawType": "float64",
                  "type": "float"
                },
                {
                  "name": "Returns",
                  "rawType": "float64",
                  "type": "float"
                },
                {
                  "name": "Is_UK",
                  "rawType": "int32",
                  "type": "integer"
                },
                {
                  "name": "Is_Not_UK",
                  "rawType": "int32",
                  "type": "integer"
                }
              ],
              "ref": "1cad1cf8-6de1-4b31-9cba-b9eaeeb354c2",
              "rows": [
                [
                  "14353",
                  "537534",
                  "22502",
                  "PICNIC BASKET WICKER SMALL",
                  "29",
                  "2010-12-07 11:48:00",
                  "0.0",
                  "15287",
                  "United Kingdom",
                  "0.0",
                  null,
                  "1",
                  "0"
                ],
                [
                  "42566",
                  "540012",
                  "22502",
                  "reverse 21/5/10 adjustment",
                  "-100",
                  "2011-01-04 11:14:00",
                  "0.0",
                  "15287",
                  "United Kingdom",
                  "-0.0",
                  null,
                  "1",
                  "0"
                ],
                [
                  "220285",
                  "556180",
                  "22502",
                  "No Description",
                  "40",
                  "2011-06-09 11:29:00",
                  "0.0",
                  "15287",
                  "United Kingdom",
                  "0.0",
                  null,
                  "1",
                  "0"
                ],
                [
                  "282819",
                  "561660",
                  "22502",
                  "No Description",
                  "1",
                  "2011-07-28 16:18:00",
                  "0.0",
                  "15287",
                  "United Kingdom",
                  "0.0",
                  null,
                  "1",
                  "0"
                ],
                [
                  "282883",
                  "561666",
                  "22502",
                  "No Description",
                  "30",
                  "2011-07-28 16:59:00",
                  "0.0",
                  "15287",
                  "United Kingdom",
                  "0.0",
                  null,
                  "1",
                  "0"
                ],
                [
                  "326549",
                  "565543",
                  "22502",
                  "No Description",
                  "8",
                  "2011-09-05 12:07:00",
                  "0.0",
                  "15287",
                  "United Kingdom",
                  "0.0",
                  null,
                  "1",
                  "0"
                ]
              ],
              "shape": {
                "columns": 12,
                "rows": 6
              }
            },
            "text/html": [
              "<div>\n",
              "<style scoped>\n",
              "    .dataframe tbody tr th:only-of-type {\n",
              "        vertical-align: middle;\n",
              "    }\n",
              "\n",
              "    .dataframe tbody tr th {\n",
              "        vertical-align: top;\n",
              "    }\n",
              "\n",
              "    .dataframe thead th {\n",
              "        text-align: right;\n",
              "    }\n",
              "</style>\n",
              "<table border=\"1\" class=\"dataframe\">\n",
              "  <thead>\n",
              "    <tr style=\"text-align: right;\">\n",
              "      <th></th>\n",
              "      <th>InvoiceNo</th>\n",
              "      <th>StockCode</th>\n",
              "      <th>Description</th>\n",
              "      <th>Quantity</th>\n",
              "      <th>InvoiceDate</th>\n",
              "      <th>UnitPrice</th>\n",
              "      <th>CustomerID</th>\n",
              "      <th>Country</th>\n",
              "      <th>Sales</th>\n",
              "      <th>Returns</th>\n",
              "      <th>Is_UK</th>\n",
              "      <th>Is_Not_UK</th>\n",
              "    </tr>\n",
              "  </thead>\n",
              "  <tbody>\n",
              "    <tr>\n",
              "      <th>14353</th>\n",
              "      <td>537534</td>\n",
              "      <td>22502</td>\n",
              "      <td>PICNIC BASKET WICKER SMALL</td>\n",
              "      <td>29</td>\n",
              "      <td>2010-12-07 11:48:00</td>\n",
              "      <td>0.0</td>\n",
              "      <td>15287</td>\n",
              "      <td>United Kingdom</td>\n",
              "      <td>0.0</td>\n",
              "      <td>NaN</td>\n",
              "      <td>1</td>\n",
              "      <td>0</td>\n",
              "    </tr>\n",
              "    <tr>\n",
              "      <th>42566</th>\n",
              "      <td>540012</td>\n",
              "      <td>22502</td>\n",
              "      <td>reverse 21/5/10 adjustment</td>\n",
              "      <td>-100</td>\n",
              "      <td>2011-01-04 11:14:00</td>\n",
              "      <td>0.0</td>\n",
              "      <td>15287</td>\n",
              "      <td>United Kingdom</td>\n",
              "      <td>-0.0</td>\n",
              "      <td>NaN</td>\n",
              "      <td>1</td>\n",
              "      <td>0</td>\n",
              "    </tr>\n",
              "    <tr>\n",
              "      <th>220285</th>\n",
              "      <td>556180</td>\n",
              "      <td>22502</td>\n",
              "      <td>No Description</td>\n",
              "      <td>40</td>\n",
              "      <td>2011-06-09 11:29:00</td>\n",
              "      <td>0.0</td>\n",
              "      <td>15287</td>\n",
              "      <td>United Kingdom</td>\n",
              "      <td>0.0</td>\n",
              "      <td>NaN</td>\n",
              "      <td>1</td>\n",
              "      <td>0</td>\n",
              "    </tr>\n",
              "    <tr>\n",
              "      <th>282819</th>\n",
              "      <td>561660</td>\n",
              "      <td>22502</td>\n",
              "      <td>No Description</td>\n",
              "      <td>1</td>\n",
              "      <td>2011-07-28 16:18:00</td>\n",
              "      <td>0.0</td>\n",
              "      <td>15287</td>\n",
              "      <td>United Kingdom</td>\n",
              "      <td>0.0</td>\n",
              "      <td>NaN</td>\n",
              "      <td>1</td>\n",
              "      <td>0</td>\n",
              "    </tr>\n",
              "    <tr>\n",
              "      <th>282883</th>\n",
              "      <td>561666</td>\n",
              "      <td>22502</td>\n",
              "      <td>No Description</td>\n",
              "      <td>30</td>\n",
              "      <td>2011-07-28 16:59:00</td>\n",
              "      <td>0.0</td>\n",
              "      <td>15287</td>\n",
              "      <td>United Kingdom</td>\n",
              "      <td>0.0</td>\n",
              "      <td>NaN</td>\n",
              "      <td>1</td>\n",
              "      <td>0</td>\n",
              "    </tr>\n",
              "    <tr>\n",
              "      <th>326549</th>\n",
              "      <td>565543</td>\n",
              "      <td>22502</td>\n",
              "      <td>No Description</td>\n",
              "      <td>8</td>\n",
              "      <td>2011-09-05 12:07:00</td>\n",
              "      <td>0.0</td>\n",
              "      <td>15287</td>\n",
              "      <td>United Kingdom</td>\n",
              "      <td>0.0</td>\n",
              "      <td>NaN</td>\n",
              "      <td>1</td>\n",
              "      <td>0</td>\n",
              "    </tr>\n",
              "  </tbody>\n",
              "</table>\n",
              "</div>"
            ],
            "text/plain": [
              "       InvoiceNo StockCode                 Description  Quantity  \\\n",
              "14353     537534     22502  PICNIC BASKET WICKER SMALL        29   \n",
              "42566     540012     22502  reverse 21/5/10 adjustment      -100   \n",
              "220285    556180     22502              No Description        40   \n",
              "282819    561660     22502              No Description         1   \n",
              "282883    561666     22502              No Description        30   \n",
              "326549    565543     22502              No Description         8   \n",
              "\n",
              "                InvoiceDate  UnitPrice  CustomerID         Country  Sales  \\\n",
              "14353   2010-12-07 11:48:00        0.0       15287  United Kingdom    0.0   \n",
              "42566   2011-01-04 11:14:00        0.0       15287  United Kingdom   -0.0   \n",
              "220285  2011-06-09 11:29:00        0.0       15287  United Kingdom    0.0   \n",
              "282819  2011-07-28 16:18:00        0.0       15287  United Kingdom    0.0   \n",
              "282883  2011-07-28 16:59:00        0.0       15287  United Kingdom    0.0   \n",
              "326549  2011-09-05 12:07:00        0.0       15287  United Kingdom    0.0   \n",
              "\n",
              "        Returns  Is_UK  Is_Not_UK  \n",
              "14353       NaN      1          0  \n",
              "42566       NaN      1          0  \n",
              "220285      NaN      1          0  \n",
              "282819      NaN      1          0  \n",
              "282883      NaN      1          0  \n",
              "326549      NaN      1          0  "
            ]
          },
          "execution_count": 61,
          "metadata": {},
          "output_type": "execute_result"
        }
      ],
      "source": [
        "# Show a UnitPrice price of zero?\n",
        "# what are these rows?\n",
        "df_copy[df_copy['UnitPrice'] == 0]\n"
      ]
    },
    {
      "cell_type": "code",
      "execution_count": 70,
      "metadata": {},
      "outputs": [
        {
          "name": "stdout",
          "output_type": "stream",
          "text": [
            "<class 'pandas.core.frame.DataFrame'>\n",
            "Index: 481 entries, 249 to 359476\n",
            "Data columns (total 12 columns):\n",
            " #   Column       Non-Null Count  Dtype  \n",
            "---  ------       --------------  -----  \n",
            " 0   InvoiceNo    481 non-null    object \n",
            " 1   StockCode    481 non-null    object \n",
            " 2   Description  481 non-null    object \n",
            " 3   Quantity     481 non-null    int64  \n",
            " 4   InvoiceDate  481 non-null    object \n",
            " 5   UnitPrice    481 non-null    float64\n",
            " 6   CustomerID   481 non-null    int64  \n",
            " 7   Country      481 non-null    object \n",
            " 8   Sales        481 non-null    float64\n",
            " 9   Returns      9 non-null      float64\n",
            " 10  Is_UK        481 non-null    int32  \n",
            " 11  Is_Not_UK    481 non-null    int32  \n",
            "dtypes: float64(3), int32(2), int64(2), object(5)\n",
            "memory usage: 174.1 KB\n"
          ]
        },
        {
          "data": {
            "application/vnd.microsoft.datawrangler.viewer.v0+json": {
              "columns": [
                {
                  "name": "index",
                  "rawType": "int64",
                  "type": "integer"
                },
                {
                  "name": "InvoiceNo",
                  "rawType": "object",
                  "type": "string"
                },
                {
                  "name": "StockCode",
                  "rawType": "object",
                  "type": "string"
                },
                {
                  "name": "Description",
                  "rawType": "object",
                  "type": "string"
                },
                {
                  "name": "Quantity",
                  "rawType": "int64",
                  "type": "integer"
                },
                {
                  "name": "InvoiceDate",
                  "rawType": "object",
                  "type": "string"
                },
                {
                  "name": "UnitPrice",
                  "rawType": "float64",
                  "type": "float"
                },
                {
                  "name": "CustomerID",
                  "rawType": "int64",
                  "type": "integer"
                },
                {
                  "name": "Country",
                  "rawType": "object",
                  "type": "string"
                },
                {
                  "name": "Sales",
                  "rawType": "float64",
                  "type": "float"
                },
                {
                  "name": "Returns",
                  "rawType": "float64",
                  "type": "float"
                },
                {
                  "name": "Is_UK",
                  "rawType": "int32",
                  "type": "integer"
                },
                {
                  "name": "Is_Not_UK",
                  "rawType": "int32",
                  "type": "integer"
                }
              ],
              "ref": "28c25f08-4ee4-44da-a935-c25454bb7413",
              "rows": [
                [
                  "222670",
                  "556442",
                  "22502",
                  "PICNIC BASKET WICKER SMALL",
                  "60",
                  "2011-06-10 15:22:00",
                  "4.95",
                  "15098",
                  "United Kingdom",
                  "297.0",
                  null,
                  "1",
                  "0"
                ],
                [
                  "222680",
                  "556444",
                  "22502",
                  "PICNIC BASKET WICKER 60 PIECES",
                  "60",
                  "2011-06-10 15:28:00",
                  "649.5",
                  "15098",
                  "United Kingdom",
                  "38970.0",
                  null,
                  "1",
                  "0"
                ],
                [
                  "222682",
                  "556446",
                  "22502",
                  "PICNIC BASKET WICKER 60 PIECES",
                  "1",
                  "2011-06-10 15:33:00",
                  "649.5",
                  "15098",
                  "United Kingdom",
                  "649.5",
                  null,
                  "1",
                  "0"
                ],
                [
                  "222692",
                  "C556448",
                  "22502",
                  "PICNIC BASKET WICKER SMALL",
                  "-60",
                  "2011-06-10 15:39:00",
                  "4.95",
                  "15098",
                  "United Kingdom",
                  "0.0",
                  "297.0",
                  "1",
                  "0"
                ]
              ],
              "shape": {
                "columns": 12,
                "rows": 4
              }
            },
            "text/html": [
              "<div>\n",
              "<style scoped>\n",
              "    .dataframe tbody tr th:only-of-type {\n",
              "        vertical-align: middle;\n",
              "    }\n",
              "\n",
              "    .dataframe tbody tr th {\n",
              "        vertical-align: top;\n",
              "    }\n",
              "\n",
              "    .dataframe thead th {\n",
              "        text-align: right;\n",
              "    }\n",
              "</style>\n",
              "<table border=\"1\" class=\"dataframe\">\n",
              "  <thead>\n",
              "    <tr style=\"text-align: right;\">\n",
              "      <th></th>\n",
              "      <th>InvoiceNo</th>\n",
              "      <th>StockCode</th>\n",
              "      <th>Description</th>\n",
              "      <th>Quantity</th>\n",
              "      <th>InvoiceDate</th>\n",
              "      <th>UnitPrice</th>\n",
              "      <th>CustomerID</th>\n",
              "      <th>Country</th>\n",
              "      <th>Sales</th>\n",
              "      <th>Returns</th>\n",
              "      <th>Is_UK</th>\n",
              "      <th>Is_Not_UK</th>\n",
              "    </tr>\n",
              "  </thead>\n",
              "  <tbody>\n",
              "    <tr>\n",
              "      <th>222670</th>\n",
              "      <td>556442</td>\n",
              "      <td>22502</td>\n",
              "      <td>PICNIC BASKET WICKER SMALL</td>\n",
              "      <td>60</td>\n",
              "      <td>2011-06-10 15:22:00</td>\n",
              "      <td>4.95</td>\n",
              "      <td>15098</td>\n",
              "      <td>United Kingdom</td>\n",
              "      <td>297.0</td>\n",
              "      <td>NaN</td>\n",
              "      <td>1</td>\n",
              "      <td>0</td>\n",
              "    </tr>\n",
              "    <tr>\n",
              "      <th>222680</th>\n",
              "      <td>556444</td>\n",
              "      <td>22502</td>\n",
              "      <td>PICNIC BASKET WICKER 60 PIECES</td>\n",
              "      <td>60</td>\n",
              "      <td>2011-06-10 15:28:00</td>\n",
              "      <td>649.50</td>\n",
              "      <td>15098</td>\n",
              "      <td>United Kingdom</td>\n",
              "      <td>38970.0</td>\n",
              "      <td>NaN</td>\n",
              "      <td>1</td>\n",
              "      <td>0</td>\n",
              "    </tr>\n",
              "    <tr>\n",
              "      <th>222682</th>\n",
              "      <td>556446</td>\n",
              "      <td>22502</td>\n",
              "      <td>PICNIC BASKET WICKER 60 PIECES</td>\n",
              "      <td>1</td>\n",
              "      <td>2011-06-10 15:33:00</td>\n",
              "      <td>649.50</td>\n",
              "      <td>15098</td>\n",
              "      <td>United Kingdom</td>\n",
              "      <td>649.5</td>\n",
              "      <td>NaN</td>\n",
              "      <td>1</td>\n",
              "      <td>0</td>\n",
              "    </tr>\n",
              "    <tr>\n",
              "      <th>222692</th>\n",
              "      <td>C556448</td>\n",
              "      <td>22502</td>\n",
              "      <td>PICNIC BASKET WICKER SMALL</td>\n",
              "      <td>-60</td>\n",
              "      <td>2011-06-10 15:39:00</td>\n",
              "      <td>4.95</td>\n",
              "      <td>15098</td>\n",
              "      <td>United Kingdom</td>\n",
              "      <td>0.0</td>\n",
              "      <td>297.0</td>\n",
              "      <td>1</td>\n",
              "      <td>0</td>\n",
              "    </tr>\n",
              "  </tbody>\n",
              "</table>\n",
              "</div>"
            ],
            "text/plain": [
              "       InvoiceNo StockCode                     Description  Quantity  \\\n",
              "222670    556442     22502      PICNIC BASKET WICKER SMALL        60   \n",
              "222680    556444     22502  PICNIC BASKET WICKER 60 PIECES        60   \n",
              "222682    556446     22502  PICNIC BASKET WICKER 60 PIECES         1   \n",
              "222692   C556448     22502      PICNIC BASKET WICKER SMALL       -60   \n",
              "\n",
              "                InvoiceDate  UnitPrice  CustomerID         Country    Sales  \\\n",
              "222670  2011-06-10 15:22:00       4.95       15098  United Kingdom    297.0   \n",
              "222680  2011-06-10 15:28:00     649.50       15098  United Kingdom  38970.0   \n",
              "222682  2011-06-10 15:33:00     649.50       15098  United Kingdom    649.5   \n",
              "222692  2011-06-10 15:39:00       4.95       15098  United Kingdom      0.0   \n",
              "\n",
              "        Returns  Is_UK  Is_Not_UK  \n",
              "222670      NaN      1          0  \n",
              "222680      NaN      1          0  \n",
              "222682      NaN      1          0  \n",
              "222692    297.0      1          0  "
            ]
          },
          "execution_count": 70,
          "metadata": {},
          "output_type": "execute_result"
        }
      ],
      "source": [
        "\n",
        "# Show a UnitPrice price of zero?\n",
        "# what are these rows?\n",
        "df_copy.info(verbose=True, memory_usage='deep')\n",
        "#df_copy[df_copy['CustomerID'] == 15098 & df_copy['StockCode'] == '22502']\n",
        "# query\n",
        "df_copy[(df_copy['CustomerID'] == 15098) & (df_copy['StockCode'] == '22502')]"
      ]
    },
    {
      "cell_type": "markdown",
      "metadata": {},
      "source": [
        "* You may add as many sections as you want, as long as it supports your project workflow.\n",
        "* All notebook's cells should be run top-down (you can't create a dynamic wherein a given point you need to go back to a previous cell to execute some task, like go back to a previous cell and refresh a variable content)"
      ]
    },
    {
      "cell_type": "code",
      "execution_count": null,
      "metadata": {},
      "outputs": [
        {
          "ename": "KeyError",
          "evalue": "'InvoiceDate'",
          "output_type": "error",
          "traceback": [
            "\u001b[31m---------------------------------------------------------------------------\u001b[39m",
            "\u001b[31mKeyError\u001b[39m                                  Traceback (most recent call last)",
            "\u001b[36mFile \u001b[39m\u001b[32mc:\\Users\\marka\\ILP\\ILP-independent-learning-project\\.venv\\Lib\\site-packages\\pandas\\core\\indexes\\base.py:3790\u001b[39m, in \u001b[36mIndex.get_loc\u001b[39m\u001b[34m(self, key)\u001b[39m\n\u001b[32m   3789\u001b[39m \u001b[38;5;28;01mtry\u001b[39;00m:\n\u001b[32m-> \u001b[39m\u001b[32m3790\u001b[39m     \u001b[38;5;28;01mreturn\u001b[39;00m \u001b[38;5;28;43mself\u001b[39;49m\u001b[43m.\u001b[49m\u001b[43m_engine\u001b[49m\u001b[43m.\u001b[49m\u001b[43mget_loc\u001b[49m\u001b[43m(\u001b[49m\u001b[43mcasted_key\u001b[49m\u001b[43m)\u001b[49m\n\u001b[32m   3791\u001b[39m \u001b[38;5;28;01mexcept\u001b[39;00m \u001b[38;5;167;01mKeyError\u001b[39;00m \u001b[38;5;28;01mas\u001b[39;00m err:\n",
            "\u001b[36mFile \u001b[39m\u001b[32mindex.pyx:152\u001b[39m, in \u001b[36mpandas._libs.index.IndexEngine.get_loc\u001b[39m\u001b[34m()\u001b[39m\n",
            "\u001b[36mFile \u001b[39m\u001b[32mindex.pyx:181\u001b[39m, in \u001b[36mpandas._libs.index.IndexEngine.get_loc\u001b[39m\u001b[34m()\u001b[39m\n",
            "\u001b[36mFile \u001b[39m\u001b[32mpandas\\_libs\\hashtable_class_helper.pxi:7080\u001b[39m, in \u001b[36mpandas._libs.hashtable.PyObjectHashTable.get_item\u001b[39m\u001b[34m()\u001b[39m\n",
            "\u001b[36mFile \u001b[39m\u001b[32mpandas\\_libs\\hashtable_class_helper.pxi:7088\u001b[39m, in \u001b[36mpandas._libs.hashtable.PyObjectHashTable.get_item\u001b[39m\u001b[34m()\u001b[39m\n",
            "\u001b[31mKeyError\u001b[39m: 'InvoiceDate'",
            "\nThe above exception was the direct cause of the following exception:\n",
            "\u001b[31mKeyError\u001b[39m                                  Traceback (most recent call last)",
            "\u001b[36mCell\u001b[39m\u001b[36m \u001b[39m\u001b[32mIn[72]\u001b[39m\u001b[32m, line 3\u001b[39m\n\u001b[32m      1\u001b[39m \u001b[38;5;66;03m# Sales over time\u001b[39;00m\n\u001b[32m      2\u001b[39m \u001b[38;5;66;03m# plot sales over time\u001b[39;00m\n\u001b[32m----> \u001b[39m\u001b[32m3\u001b[39m df_copy[\u001b[33m'\u001b[39m\u001b[33mInvoiceDate\u001b[39m\u001b[33m'\u001b[39m] = pd.to_datetime(\u001b[43mdf_copy\u001b[49m\u001b[43m[\u001b[49m\u001b[33;43m'\u001b[39;49m\u001b[33;43mInvoiceDate\u001b[39;49m\u001b[33;43m'\u001b[39;49m\u001b[43m]\u001b[49m)\n\u001b[32m      4\u001b[39m df_copy.set_index(\u001b[33m'\u001b[39m\u001b[33mInvoiceDate\u001b[39m\u001b[33m'\u001b[39m, inplace=\u001b[38;5;28;01mTrue\u001b[39;00m)\n\u001b[32m      5\u001b[39m df_copy.head()\n",
            "\u001b[36mFile \u001b[39m\u001b[32mc:\\Users\\marka\\ILP\\ILP-independent-learning-project\\.venv\\Lib\\site-packages\\pandas\\core\\frame.py:3896\u001b[39m, in \u001b[36mDataFrame.__getitem__\u001b[39m\u001b[34m(self, key)\u001b[39m\n\u001b[32m   3894\u001b[39m \u001b[38;5;28;01mif\u001b[39;00m \u001b[38;5;28mself\u001b[39m.columns.nlevels > \u001b[32m1\u001b[39m:\n\u001b[32m   3895\u001b[39m     \u001b[38;5;28;01mreturn\u001b[39;00m \u001b[38;5;28mself\u001b[39m._getitem_multilevel(key)\n\u001b[32m-> \u001b[39m\u001b[32m3896\u001b[39m indexer = \u001b[38;5;28;43mself\u001b[39;49m\u001b[43m.\u001b[49m\u001b[43mcolumns\u001b[49m\u001b[43m.\u001b[49m\u001b[43mget_loc\u001b[49m\u001b[43m(\u001b[49m\u001b[43mkey\u001b[49m\u001b[43m)\u001b[49m\n\u001b[32m   3897\u001b[39m \u001b[38;5;28;01mif\u001b[39;00m is_integer(indexer):\n\u001b[32m   3898\u001b[39m     indexer = [indexer]\n",
            "\u001b[36mFile \u001b[39m\u001b[32mc:\\Users\\marka\\ILP\\ILP-independent-learning-project\\.venv\\Lib\\site-packages\\pandas\\core\\indexes\\base.py:3797\u001b[39m, in \u001b[36mIndex.get_loc\u001b[39m\u001b[34m(self, key)\u001b[39m\n\u001b[32m   3792\u001b[39m     \u001b[38;5;28;01mif\u001b[39;00m \u001b[38;5;28misinstance\u001b[39m(casted_key, \u001b[38;5;28mslice\u001b[39m) \u001b[38;5;129;01mor\u001b[39;00m (\n\u001b[32m   3793\u001b[39m         \u001b[38;5;28misinstance\u001b[39m(casted_key, abc.Iterable)\n\u001b[32m   3794\u001b[39m         \u001b[38;5;129;01mand\u001b[39;00m \u001b[38;5;28many\u001b[39m(\u001b[38;5;28misinstance\u001b[39m(x, \u001b[38;5;28mslice\u001b[39m) \u001b[38;5;28;01mfor\u001b[39;00m x \u001b[38;5;129;01min\u001b[39;00m casted_key)\n\u001b[32m   3795\u001b[39m     ):\n\u001b[32m   3796\u001b[39m         \u001b[38;5;28;01mraise\u001b[39;00m InvalidIndexError(key)\n\u001b[32m-> \u001b[39m\u001b[32m3797\u001b[39m     \u001b[38;5;28;01mraise\u001b[39;00m \u001b[38;5;167;01mKeyError\u001b[39;00m(key) \u001b[38;5;28;01mfrom\u001b[39;00m\u001b[38;5;250m \u001b[39m\u001b[34;01merr\u001b[39;00m\n\u001b[32m   3798\u001b[39m \u001b[38;5;28;01mexcept\u001b[39;00m \u001b[38;5;167;01mTypeError\u001b[39;00m:\n\u001b[32m   3799\u001b[39m     \u001b[38;5;66;03m# If we have a listlike key, _check_indexing_error will raise\u001b[39;00m\n\u001b[32m   3800\u001b[39m     \u001b[38;5;66;03m#  InvalidIndexError. Otherwise we fall through and re-raise\u001b[39;00m\n\u001b[32m   3801\u001b[39m     \u001b[38;5;66;03m#  the TypeError.\u001b[39;00m\n\u001b[32m   3802\u001b[39m     \u001b[38;5;28mself\u001b[39m._check_indexing_error(key)\n",
            "\u001b[31mKeyError\u001b[39m: 'InvoiceDate'"
          ]
        }
      ],
      "source": [
        "# Sales over time\n",
        "# plot sales over time\n",
        "import pandas as pd\n",
        "# seaborn\n",
        "import seaborn as sns\n",
        "\n",
        "seaborn.lineplot(data=None, *, x=None, y=None, hue=None, size=None, style=None, units=None, weights=None, palette=None, hue_order=None, hue_norm=None, sizes=None, size_order=None, size_norm=None, dashes=True, markers=None, style_order=None, estimator='mean', errorbar=('ci', 95), n_boot=1000, seed=None, orient='x', sort=True, err_style='band', err_kws=None, legend='auto', ci='deprecated', ax=None, **kwargs)\n",
        "\n",
        "\n"
      ]
    },
    {
      "cell_type": "code",
      "execution_count": null,
      "metadata": {},
      "outputs": [],
      "source": []
    },
    {
      "cell_type": "code",
      "execution_count": null,
      "metadata": {},
      "outputs": [],
      "source": []
    },
    {
      "cell_type": "markdown",
      "metadata": {},
      "source": [
        "---"
      ]
    },
    {
      "cell_type": "markdown",
      "metadata": {
        "id": "ltNetd085qHf"
      },
      "source": [
        "# Push files to Repo"
      ]
    },
    {
      "cell_type": "markdown",
      "metadata": {},
      "source": [
        "* In cases where you don't need to push files to Repo, you may replace this section with \"Conclusions and Next Steps\" and state your conclusions and next steps."
      ]
    },
    {
      "cell_type": "code",
      "execution_count": null,
      "metadata": {
        "id": "aKlnIozA4eQO",
        "outputId": "fd09bc1f-adb1-4511-f6ce-492a6af570c0"
      },
      "outputs": [],
      "source": [
        "import os\n",
        "try:\n",
        "  pass\n",
        "  # create your folder here\n",
        "  # os.makedirs(name='')\n",
        "except Exception as e:\n",
        "  print(e)\n"
      ]
    }
  ],
  "metadata": {
    "accelerator": "GPU",
    "colab": {
      "name": "Data Practitioner Jupyter Notebook.ipynb",
      "provenance": [],
      "toc_visible": true
    },
    "kernelspec": {
      "display_name": ".venv (3.12.8)",
      "language": "python",
      "name": "python3"
    },
    "language_info": {
      "codemirror_mode": {
        "name": "ipython",
        "version": 3
      },
      "file_extension": ".py",
      "mimetype": "text/x-python",
      "name": "python",
      "nbconvert_exporter": "python",
      "pygments_lexer": "ipython3",
      "version": "3.12.8"
    },
    "orig_nbformat": 2
  },
  "nbformat": 4,
  "nbformat_minor": 2
}
